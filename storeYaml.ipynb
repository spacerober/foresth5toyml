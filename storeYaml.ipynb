{
 "cells": [
  {
   "cell_type": "code",
   "execution_count": 1,
   "metadata": {},
   "outputs": [],
   "source": [
    "import h5py"
   ]
  },
  {
   "cell_type": "code",
   "execution_count": 2,
   "metadata": {},
   "outputs": [],
   "source": [
    "filename_f = 'model/forests/forest3.h5'\n",
    "fp = open('test4.yml', 'w')\n",
    "f = h5py.File(filename_f, 'r')"
   ]
  },
  {
   "cell_type": "code",
   "execution_count": 3,
   "metadata": {},
   "outputs": [
    {
     "name": "stdout",
     "output_type": "stream",
     "text": [
      "Keys Forest: <KeysViewHDF5 ['cids', 'edge_bnds', 'edge_pts', 'fids', 'n_seg', 'segs', 'thrs']>\n",
      "<HDF5 file \"forest3.h5\" (mode r)>\n"
     ]
    }
   ],
   "source": [
    "print(\"Keys Forest: %s\" % f.keys())\n",
    "print(f)"
   ]
  },
  {
   "cell_type": "code",
   "execution_count": 4,
   "metadata": {},
   "outputs": [],
   "source": [
    "childs = list(f.keys())[0]\n",
    "featureIds = list(f.keys())[3]\n",
    "thresholds = list(f.keys())[6]\n",
    "edgeBoundaries = list(f.keys())[1]\n",
    "edgeBins = list(f.keys())[2]"
   ]
  },
  {
   "cell_type": "code",
   "execution_count": 5,
   "metadata": {
    "scrolled": true
   },
   "outputs": [
    {
     "data": {
      "text/plain": [
       "36"
      ]
     },
     "execution_count": 5,
     "metadata": {},
     "output_type": "execute_result"
    }
   ],
   "source": [
    "fp.write(\"%YAML:1.0\\n\\n\")\n",
    "fp.write(\"options:\\n\")\n",
    "fp.write(\"    numberOfTrees: 8\\n\")\n",
    "fp.write(\"    numberOfTreesToEvaluate: 4\\n\")\n",
    "fp.write(\"    selfsimilarityGridSize: 5\\n\")\n",
    "fp.write(\"    stride: 2\\n\")\n",
    "fp.write(\"    shrinkNumber: 2\\n\")\n",
    "fp.write(\"    patchSize: 32\\n\")\n",
    "fp.write(\"    patchInnerSize: 16\\n\")\n",
    "fp.write(\"    numberOfGradientOrientations: 4\\n\")\n",
    "fp.write(\"    gradientSmoothingRadius: 0\\n\")\n",
    "fp.write(\"    regFeatureSmoothingRadius: 2\\n\")\n",
    "fp.write(\"    ssFeatureSmoothingRadius: 8\\n\")\n",
    "fp.write(\"    gradientNormalizationRadius: 4\\n\\n\")"
   ]
  },
  {
   "cell_type": "code",
   "execution_count": 6,
   "metadata": {},
   "outputs": [],
   "source": [
    "def write2FileInt(fp, array):\n",
    "    fp.write('    - [')\n",
    "    for a in array[:-1]:\n",
    "        fp.write('%d,' % a)\n",
    "    fp.write('%d' % array[-1])\n",
    "    fp.write(']\\n')"
   ]
  },
  {
   "cell_type": "code",
   "execution_count": 7,
   "metadata": {},
   "outputs": [],
   "source": [
    "def write2FileFloat(fp, array):\n",
    "    fp.write('    - [')\n",
    "    for a in array[:-1]:\n",
    "        fp.write('%f,' % a)\n",
    "    fp.write('%f' % array[-1])\n",
    "    fp.write(']\\n')"
   ]
  },
  {
   "cell_type": "code",
   "execution_count": 8,
   "metadata": {
    "scrolled": true
   },
   "outputs": [
    {
     "data": {
      "text/plain": [
       "1"
      ]
     },
     "execution_count": 8,
     "metadata": {},
     "output_type": "execute_result"
    }
   ],
   "source": [
    "fp.write(\"childs:\\n\")\n",
    "for c in list(f[childs]):\n",
    "    write2FileInt(fp, c)\n",
    "fp.write(\"\\n\")    "
   ]
  },
  {
   "cell_type": "code",
   "execution_count": 9,
   "metadata": {},
   "outputs": [
    {
     "data": {
      "text/plain": [
       "1"
      ]
     },
     "execution_count": 9,
     "metadata": {},
     "output_type": "execute_result"
    }
   ],
   "source": [
    "fp.write(\"featureIds:\\n\")\n",
    "for c in list(f[featureIds]):\n",
    "    write2FileInt(fp, c)\n",
    "fp.write(\"\\n\")"
   ]
  },
  {
   "cell_type": "code",
   "execution_count": 10,
   "metadata": {},
   "outputs": [
    {
     "data": {
      "text/plain": [
       "1"
      ]
     },
     "execution_count": 10,
     "metadata": {},
     "output_type": "execute_result"
    }
   ],
   "source": [
    "fp.write(\"thresholds:\\n\")\n",
    "for c in list(f[thresholds]):\n",
    "    write2FileFloat(fp, c)\n",
    "fp.write(\"\\n\")"
   ]
  },
  {
   "cell_type": "code",
   "execution_count": 11,
   "metadata": {},
   "outputs": [
    {
     "data": {
      "text/plain": [
       "1"
      ]
     },
     "execution_count": 11,
     "metadata": {},
     "output_type": "execute_result"
    }
   ],
   "source": [
    "elements = list(f[edgeBoundaries])\n",
    "n_elements = len(elements)\n",
    "fp.write(\"edgeBoundaries:\\n\")\n",
    "for i in range(0,n_elements,1000):\n",
    "   write2FileInt(fp, elements[i:i+1000])\n",
    "fp.write(\"\\n\")"
   ]
  },
  {
   "cell_type": "code",
   "execution_count": 12,
   "metadata": {},
   "outputs": [
    {
     "data": {
      "text/plain": [
       "1"
      ]
     },
     "execution_count": 12,
     "metadata": {},
     "output_type": "execute_result"
    }
   ],
   "source": [
    "elements = list(f[edgeBins])\n",
    "n_elements = len(elements)\n",
    "fp.write(\"edgeBins:\\n\")\n",
    "for i in range(0,n_elements,1000):\n",
    "    write2FileInt(fp, elements[i:i+1000])\n",
    "fp.write(\"\\n\")"
   ]
  },
  {
   "cell_type": "code",
   "execution_count": 13,
   "metadata": {},
   "outputs": [],
   "source": [
    "fp.close()"
   ]
  }
 ],
 "metadata": {
  "kernelspec": {
   "display_name": "Python 3",
   "language": "python",
   "name": "python3"
  },
  "language_info": {
   "codemirror_mode": {
    "name": "ipython",
    "version": 3
   },
   "file_extension": ".py",
   "mimetype": "text/x-python",
   "name": "python",
   "nbconvert_exporter": "python",
   "pygments_lexer": "ipython3",
   "version": "3.6.7"
  }
 },
 "nbformat": 4,
 "nbformat_minor": 2
}
